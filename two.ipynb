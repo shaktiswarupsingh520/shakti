{
 "cells": [
  {
   "cell_type": "code",
   "execution_count": 1,
   "metadata": {},
   "outputs": [
    {
     "name": "stdout",
     "output_type": "stream",
     "text": [
      "enter the number=4\n",
      "Number is even\n"
     ]
    }
   ],
   "source": [
    "#even or odd program\n",
    "num = float(input(\"enter the number=\"))  \n",
    "if num%2 == 0:  \n",
    "    print(\"Number is even\")\n",
    "else:\n",
    "        print(\"number is odd\")"
   ]
  },
  {
   "cell_type": "code",
   "execution_count": null,
   "metadata": {},
   "outputs": [],
   "source": []
  },
  {
   "cell_type": "code",
   "execution_count": null,
   "metadata": {},
   "outputs": [],
   "source": [
    "#grade program\n",
    "marks = int(input(\"Enter the marks= \"))\n",
    "if marks > 85 and marks <= 100:  \n",
    "    print(\"Congrats  you scored grade A \")  \n",
    "elif marks > 60 and marks <= 85:  \n",
    "    print(\"You scored grade B + \")  \n",
    "elif marks > 40 and marks <= 60:  \n",
    "    print(\"You scored grade B \")  \n",
    "elif (marks > 30 and marks <= 40):  \n",
    "    print(\"You scored grade C \")  \n",
    "else:  \n",
    "    print(\"Sorry you are fail ?\")"
   ]
  },
  {
   "cell_type": "code",
   "execution_count": 4,
   "metadata": {},
   "outputs": [
    {
     "name": "stdout",
     "output_type": "stream",
     "text": [
      "enter a string=shhgg\n",
      "shhgg\n"
     ]
    }
   ],
   "source": [
    "a=(input(\"enter a string=\"))\n",
    "print(a)"
   ]
  },
  {
   "cell_type": "code",
   "execution_count": 2,
   "metadata": {},
   "outputs": [
    {
     "name": "stdout",
     "output_type": "stream",
     "text": [
      "enter a string to reverse=shakti\n",
      "itkahs\n"
     ]
    }
   ],
   "source": [
    "#reverse a string\n",
    "a=(input(\"enter a string to reverse=\"))\n",
    "print(a[::-1])"
   ]
  },
  {
   "cell_type": "code",
   "execution_count": 3,
   "metadata": {},
   "outputs": [
    {
     "name": "stdout",
     "output_type": "stream",
     "text": [
      "Please enter a String : cuttuc\n",
      "This is a Palindrome String\n"
     ]
    }
   ],
   "source": [
    "#check palindrom or not\n",
    "a = input(\"Please enter a String : \")\n",
    "\n",
    "if(a == a[:: - 1]):\n",
    "   print(\"This is a Palindrome String\")\n",
    "else:\n",
    "   print(\"This is Not a Palindrome String\")"
   ]
  },
  {
   "cell_type": "code",
   "execution_count": 7,
   "metadata": {},
   "outputs": [
    {
     "name": "stdout",
     "output_type": "stream",
     "text": [
      "Enter a number=12\n",
      "1\n",
      "2\n",
      "3\n",
      "4\n",
      "5\n",
      "6\n",
      "7\n",
      "8\n",
      "9\n",
      "10\n",
      "11\n"
     ]
    }
   ],
   "source": [
    "#print natural numbers\n",
    "i=1  \n",
    "n=int(input(\"Enter a number=\"))  \n",
    "for i in range(1,n):  \n",
    "    print(i)  "
   ]
  },
  {
   "cell_type": "code",
   "execution_count": 8,
   "metadata": {},
   "outputs": [
    {
     "name": "stdout",
     "output_type": "stream",
     "text": [
      "Enter a number=2\n",
      "2\n",
      "1\n",
      "0\n"
     ]
    }
   ],
   "source": [
    "#print natural number in reverse order\n",
    "i=1  \n",
    "n=int(input(\"Enter a number=\")) \n",
    "for i in range(n,-1,-1):\n",
    "    print(i)"
   ]
  },
  {
   "cell_type": "code",
   "execution_count": 9,
   "metadata": {},
   "outputs": [
    {
     "name": "stdout",
     "output_type": "stream",
     "text": [
      "[1, 2, 3, 4, 5]\n"
     ]
    }
   ],
   "source": [
    "#copy one list elements into other\n",
    "a=[1,2,3,4,5]\n",
    "b=[]\n",
    "for i in a:\n",
    "    b.append(i)\n",
    "print(b)\n",
    "\n",
    "    "
   ]
  },
  {
   "cell_type": "code",
   "execution_count": 10,
   "metadata": {},
   "outputs": [
    {
     "name": "stdout",
     "output_type": "stream",
     "text": [
      "1\n",
      "2\n",
      "3\n",
      "4\n",
      "5\n",
      "6\n",
      "7\n",
      "8\n",
      "9\n",
      "10\n",
      "10\n"
     ]
    }
   ],
   "source": [
    "\n",
    "for i in range(1,11):\n",
    "    print(i)\n",
    "print(i)"
   ]
  },
  {
   "cell_type": "code",
   "execution_count": 11,
   "metadata": {},
   "outputs": [
    {
     "name": "stdout",
     "output_type": "stream",
     "text": [
      "15\n"
     ]
    }
   ],
   "source": [
    "a=[1,2,3,4,5]\n",
    "sum=0\n",
    "for i in a:\n",
    "    sum=sum+i\n",
    "print(sum)\n",
    "    "
   ]
  },
  {
   "cell_type": "code",
   "execution_count": 19,
   "metadata": {},
   "outputs": [
    {
     "name": "stdout",
     "output_type": "stream",
     "text": [
      "Enter a number: 5\n",
      "5 is  a prime number\n"
     ]
    }
   ],
   "source": [
    "#check prime number or not\n",
    "num = int(input(\"Enter a number: \"))\n",
    "c=0\n",
    "for i in range(1,num+1):\n",
    "    if (num % i == 0):\n",
    "            c=c+1\n",
    "if(c==2):\n",
    "      print(num,\"is  a prime number\")\n",
    "else:\n",
    "    print(num,\"is not  a prime number\")  "
   ]
  },
  {
   "cell_type": "code",
   "execution_count": 3,
   "metadata": {},
   "outputs": [
    {
     "name": "stdout",
     "output_type": "stream",
     "text": [
      "enter a number=5\n",
      "0 1\n",
      "1\n",
      "2\n",
      "3\n",
      "5\n",
      "8\n"
     ]
    }
   ],
   "source": [
    "#fibonacci series\n",
    "n=int(input('enter a number='))\n",
    "a=0\n",
    "b=1\n",
    "\n",
    "print(a,b)\n",
    "for i in range(0,n):\n",
    "    \n",
    "    i=a+b\n",
    "    a=b\n",
    "    b=i    \n",
    "    print(i)\n"
   ]
  },
  {
   "cell_type": "code",
   "execution_count": 14,
   "metadata": {},
   "outputs": [
    {
     "name": "stdout",
     "output_type": "stream",
     "text": [
      "string is shakti int is 5\n"
     ]
    }
   ],
   "source": [
    "# use of [.format] function\n",
    "s=\"shakti\"\n",
    "i=5\n",
    "print(\"string is {s} int is {i}\".format(s=s,i=i))"
   ]
  },
  {
   "cell_type": "code",
   "execution_count": 1,
   "metadata": {},
   "outputs": [
    {
     "name": "stdout",
     "output_type": "stream",
     "text": [
      "Show the multiplication table of? 5\n",
      "5 x 1 = 5\n",
      "5 x 2 = 10\n",
      "5 x 3 = 15\n",
      "5 x 4 = 20\n",
      "5 x 5 = 25\n",
      "5 x 6 = 30\n",
      "5 x 7 = 35\n",
      "5 x 8 = 40\n",
      "5 x 9 = 45\n",
      "5 x 10 = 50\n"
     ]
    }
   ],
   "source": [
    "#multiplication table program\n",
    "num = int(input(\"Show the multiplication table of? \")) \n",
    "for i in range(1,11):  \n",
    "    print(num,'x',i,'=',num*i) "
   ]
  },
  {
   "cell_type": "code",
   "execution_count": 1,
   "metadata": {},
   "outputs": [
    {
     "name": "stdout",
     "output_type": "stream",
     "text": [
      "------------Birthday App---------------\n",
      "1.show birthday\n",
      "2.Add Birthday\n",
      "3.Exit\n",
      "enter the choice3\n"
     ]
    }
   ],
   "source": [
    "#birthday reminder app\n",
    "dict={}\n",
    "while True:\n",
    "    print(\"------------Birthday App---------------\")\n",
    "    print(\"1.show birthday\")\n",
    "    print(\"2.Add Birthday\")\n",
    "    print(\"3.Exit\")\n",
    "    choice=int(input(\"enter the choice\"))\n",
    "    if choice ==1:\n",
    "        if len(dict.keys())==0:\n",
    "            print(\"No record Found\")\n",
    "        else:\n",
    "            name=input(\"enter your friends name\")\n",
    "            birthday=dict.get(name,\"no data found\")\n",
    "            print(birthday)\n",
    "    elif choice==2:\n",
    "            name=input(\"enter your friends name=\")\n",
    "            date=input(\"enter birthday=\")\n",
    "            dict[name]=date\n",
    "            print(\"Birthday Addded\")\n",
    "    elif choice==3:\n",
    "            break\n",
    "    else:\n",
    "            print(\"choice a valid option\")\n",
    "            \n",
    "        "
   ]
  },
  {
   "cell_type": "code",
   "execution_count": 11,
   "metadata": {},
   "outputs": [
    {
     "name": "stdout",
     "output_type": "stream",
     "text": [
      "some\n"
     ]
    }
   ],
   "source": [
    "#use of function\n",
    "def shakti():\n",
    "    return \"some\"\n",
    "    print(\"fidbudsyfb\")\n",
    "a=shakti()\n",
    "print(a)"
   ]
  },
  {
   "cell_type": "code",
   "execution_count": 5,
   "metadata": {},
   "outputs": [
    {
     "name": "stdout",
     "output_type": "stream",
     "text": [
      "enter a no153\n",
      "armstrong no\n"
     ]
    }
   ],
   "source": [
    "#armstrong number\n",
    "a=int(input(\"enter a no=\"))\n",
    "num=a\n",
    "rem=0\n",
    "sum=0\n",
    "while(num>0):\n",
    "    rem=num%10\n",
    "    rem=pow(rem,3)\n",
    "    num=int(num/10)\n",
    "    sum=sum+rem\n",
    "if(sum==a):\n",
    "    print(\"armstrong no\")\n",
    "else:\n",
    "    print(\"not a armstrong num\")\n",
    "    \n"
   ]
  },
  {
   "cell_type": "code",
   "execution_count": 12,
   "metadata": {},
   "outputs": [
    {
     "name": "stdout",
     "output_type": "stream",
     "text": [
      "8\n",
      "0\n"
     ]
    }
   ],
   "source": [
    "def farin(a,b):\n",
    "    c=a+b\n",
    "    return 0\n",
    "z=farin(5,3)\n",
    "print(z)\n"
   ]
  },
  {
   "cell_type": "code",
   "execution_count": 2,
   "metadata": {},
   "outputs": [
    {
     "name": "stdout",
     "output_type": "stream",
     "text": [
      "5 something  10\n"
     ]
    }
   ],
   "source": [
    "print(\"{s} something  {v}\".format(s=5,v=10))\n",
    "\n"
   ]
  },
  {
   "cell_type": "code",
   "execution_count": 1,
   "metadata": {},
   "outputs": [
    {
     "name": "stdout",
     "output_type": "stream",
     "text": [
      "Enter a number5\n",
      "Factorial of the given no is 120\n"
     ]
    }
   ],
   "source": [
    "#find factorial of a number\n",
    "a=int(input(\"Enter a number\"))\n",
    "i=1\n",
    "fact=1\n",
    "while(i<=a):\n",
    "    fact=fact*i\n",
    "    i=i+1\n",
    "print(\"Factorial of the given no is {one}\".format(one=fact))"
   ]
  },
  {
   "cell_type": "code",
   "execution_count": 3,
   "metadata": {},
   "outputs": [],
   "source": [
    "import numpy as np"
   ]
  },
  {
   "cell_type": "code",
   "execution_count": 18,
   "metadata": {},
   "outputs": [
    {
     "data": {
      "text/plain": [
       "array([1., 1., 1., 1.])"
      ]
     },
     "execution_count": 18,
     "metadata": {},
     "output_type": "execute_result"
    }
   ],
   "source": [
    "np.ones(4)\n"
   ]
  },
  {
   "cell_type": "code",
   "execution_count": 19,
   "metadata": {},
   "outputs": [
    {
     "data": {
      "text/plain": [
       "array([0., 0., 0., 0.])"
      ]
     },
     "execution_count": 19,
     "metadata": {},
     "output_type": "execute_result"
    }
   ],
   "source": [
    "np.zeros(4)"
   ]
  },
  {
   "cell_type": "code",
   "execution_count": 20,
   "metadata": {},
   "outputs": [
    {
     "data": {
      "text/plain": [
       "range(0, 5)"
      ]
     },
     "execution_count": 20,
     "metadata": {},
     "output_type": "execute_result"
    }
   ],
   "source": [
    "range(5)"
   ]
  },
  {
   "cell_type": "code",
   "execution_count": 26,
   "metadata": {},
   "outputs": [
    {
     "data": {
      "text/plain": [
       "array([[ 0,  1,  2,  3,  4],\n",
       "       [ 5,  6,  7,  8,  9],\n",
       "       [10, 11, 12, 13, 14],\n",
       "       [15, 16, 17, 18, 19],\n",
       "       [20, 21, 22, 23, 24]])"
      ]
     },
     "execution_count": 26,
     "metadata": {},
     "output_type": "execute_result"
    }
   ],
   "source": [
    "a=np.reshape(a,newshape=[5,5])\n",
    "a"
   ]
  },
  {
   "cell_type": "code",
   "execution_count": 22,
   "metadata": {},
   "outputs": [],
   "source": [
    "import pandas as pd\n"
   ]
  },
  {
   "cell_type": "code",
   "execution_count": 8,
   "metadata": {},
   "outputs": [
    {
     "data": {
      "text/plain": [
       "array([ 0,  1,  2,  3,  4,  5,  6,  7,  8,  9, 10, 11, 12, 13, 14, 15, 16,\n",
       "       17, 18, 19, 20, 21, 22, 23, 24])"
      ]
     },
     "execution_count": 8,
     "metadata": {},
     "output_type": "execute_result"
    }
   ],
   "source": [
    "a=np.arange(25)\n",
    "a"
   ]
  },
  {
   "cell_type": "code",
   "execution_count": 4,
   "metadata": {},
   "outputs": [],
   "source": [
    "import pandas as pd\n",
    "import numpy as np"
   ]
  },
  {
   "cell_type": "code",
   "execution_count": 5,
   "metadata": {},
   "outputs": [
    {
     "ename": "NameError",
     "evalue": "name 'pd' is not defined",
     "output_type": "error",
     "traceback": [
      "\u001b[1;31m---------------------------------------------------------------------------\u001b[0m",
      "\u001b[1;31mNameError\u001b[0m                                 Traceback (most recent call last)",
      "\u001b[1;32m<ipython-input-5-b45ace76d5e6>\u001b[0m in \u001b[0;36m<module>\u001b[1;34m\u001b[0m\n\u001b[0;32m      1\u001b[0m \u001b[0mb\u001b[0m\u001b[1;33m=\u001b[0m\u001b[1;33m[\u001b[0m\u001b[1;36m1\u001b[0m\u001b[1;33m,\u001b[0m\u001b[1;36m5\u001b[0m\u001b[1;33m,\u001b[0m\u001b[1;36m8\u001b[0m\u001b[1;33m,\u001b[0m\u001b[1;36m12\u001b[0m\u001b[1;33m]\u001b[0m\u001b[1;33m\u001b[0m\u001b[1;33m\u001b[0m\u001b[0m\n\u001b[0;32m      2\u001b[0m \u001b[0mv\u001b[0m\u001b[1;33m=\u001b[0m\u001b[1;33m[\u001b[0m\u001b[1;34m\"shakti\"\u001b[0m\u001b[1;33m,\u001b[0m\u001b[1;34m\"swarup\"\u001b[0m\u001b[1;33m,\u001b[0m\u001b[1;34m\"surya\"\u001b[0m\u001b[1;33m,\u001b[0m\u001b[1;34m\"kanta\"\u001b[0m\u001b[1;33m]\u001b[0m\u001b[1;33m\u001b[0m\u001b[1;33m\u001b[0m\u001b[0m\n\u001b[1;32m----> 3\u001b[1;33m \u001b[0mdf\u001b[0m\u001b[1;33m=\u001b[0m\u001b[0mpd\u001b[0m\u001b[1;33m.\u001b[0m\u001b[0mDataFrame\u001b[0m\u001b[1;33m(\u001b[0m\u001b[0ma\u001b[0m\u001b[1;33m,\u001b[0m\u001b[0mindex\u001b[0m\u001b[1;33m=\u001b[0m\u001b[0mb\u001b[0m\u001b[1;33m,\u001b[0m\u001b[0mcolumn\u001b[0m\u001b[1;33m=\u001b[0m\u001b[0mv\u001b[0m\u001b[1;33m)\u001b[0m\u001b[1;33m\u001b[0m\u001b[1;33m\u001b[0m\u001b[0m\n\u001b[0m",
      "\u001b[1;31mNameError\u001b[0m: name 'pd' is not defined"
     ]
    }
   ],
   "source": []
  },
  {
   "cell_type": "code",
   "execution_count": 20,
   "metadata": {},
   "outputs": [
    {
     "data": {
      "text/plain": [
       "array([ 0,  1,  2,  3,  4,  5,  6,  7,  8,  9, 10, 11, 12, 13, 14, 15, 16,\n",
       "       17, 18, 19, 20, 21, 22, 23, 24, 25, 26, 27, 28, 29, 30, 31, 32, 33,\n",
       "       34, 35])"
      ]
     },
     "execution_count": 20,
     "metadata": {},
     "output_type": "execute_result"
    }
   ],
   "source": [
    "a=np.arange(36)\n",
    "\n",
    "a"
   ]
  },
  {
   "cell_type": "code",
   "execution_count": 21,
   "metadata": {},
   "outputs": [
    {
     "data": {
      "text/plain": [
       "array([[ 0,  1,  2,  3,  4,  5],\n",
       "       [ 6,  7,  8,  9, 10, 11],\n",
       "       [12, 13, 14, 15, 16, 17],\n",
       "       [18, 19, 20, 21, 22, 23],\n",
       "       [24, 25, 26, 27, 28, 29],\n",
       "       [30, 31, 32, 33, 34, 35]])"
      ]
     },
     "execution_count": 21,
     "metadata": {},
     "output_type": "execute_result"
    }
   ],
   "source": [
    "a=np.reshape(a,[6,6])\n",
    "a"
   ]
  },
  {
   "cell_type": "code",
   "execution_count": 2,
   "metadata": {},
   "outputs": [
    {
     "name": "stdout",
     "output_type": "stream",
     "text": [
      "enter marks= 54\n",
      "enter student name=shkti\n",
      "enter marks= 86\n",
      "enter student name=ruuu\n",
      "enter marks= 97\n",
      "enter student name=gdhbuaib\n",
      "enter marks= 46\n",
      "enter student name=ekhfbc\n",
      "enter marks= 55\n",
      "enter student name=ksbkcs \n",
      "enter marks= 77\n",
      "enter student name=wadb\n",
      "    shkti  ruuu  gdhbuaib  ekhfbc  ksbkcs   wadb\n",
      "54      0     1         2       3        4     5\n",
      "86      6     7         8       9       10    11\n",
      "97     12    13        14      15       16    17\n",
      "46     18    19        20      21       22    23\n",
      "55     24    25        26      27       28    29\n",
      "77     30    31        32      33       34    35\n"
     ]
    }
   ],
   "source": [
    "import pandas as pd\n",
    "import numpy as np\n",
    "x=[]\n",
    "y=[]\n",
    "a=np.arange(36)\n",
    "a=np.reshape(a,[6,6])\n",
    "\n",
    "for i in range(6):\n",
    "    n=int(input(\"enter marks= \"))\n",
    "    x.append(n)\n",
    "    p=input(\"enter student name=\")\n",
    "    y.append(p)\n",
    "\n",
    "df=pd.DataFrame(a,index=x,columns=y)\n",
    "print(df)\n",
    "    "
   ]
  },
  {
   "cell_type": "code",
   "execution_count": 4,
   "metadata": {},
   "outputs": [
    {
     "name": "stdout",
     "output_type": "stream",
     "text": [
      "5\n",
      "['e', 'e', 'o', 'e', 'e']\n"
     ]
    }
   ],
   "source": []
  },
  {
   "cell_type": "code",
   "execution_count": null,
   "metadata": {},
   "outputs": [],
   "source": []
  }
 ],
 "metadata": {
  "kernelspec": {
   "display_name": "Python 3",
   "language": "python",
   "name": "python3"
  },
  "language_info": {
   "codemirror_mode": {
    "name": "ipython",
    "version": 3
   },
   "file_extension": ".py",
   "mimetype": "text/x-python",
   "name": "python",
   "nbconvert_exporter": "python",
   "pygments_lexer": "ipython3",
   "version": "3.7.3"
  }
 },
 "nbformat": 4,
 "nbformat_minor": 2
}
