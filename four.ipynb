{
 "cells": [
  {
   "cell_type": "code",
   "execution_count": 1,
   "metadata": {},
   "outputs": [],
   "source": []
  },
  {
   "cell_type": "code",
   "execution_count": 2,
   "metadata": {},
   "outputs": [],
   "source": [
    "import tkinter as tk\n",
    "root=tk.Tk()\n",
    "root.title(\"myfirstApp\")\n",
    "root.geometry(\"300x300\")\n",
    "frame=tk.Frame(root,width=300,height=300)\n",
    "frame.pack(side=\"left\")\n",
    "label=tk.Label(frame,text=\"UserName\")\n",
    "label.pack()\n",
    "label1=tk.Label(frame,text=\"Password\")\n",
    "label1.pack()\n",
    "label2=tk.Label(frame,text=\"forget password\")\n",
    "label2.pack()\n",
    "root.mainloop()"
   ]
  },
  {
   "cell_type": "code",
   "execution_count": 4,
   "metadata": {},
   "outputs": [],
   "source": [
    "import tkinter as tk\n",
    "from tkinter import ttk\n",
    "\n",
    "\n",
    "root=tk.Tk()\n",
    "root.title(\"mySecondApp\")\n",
    "root.geometry(\"1200x1000\")\n",
    "\n",
    "frame=tk.Frame(root,bg=\"blue\",width=100,height=150)\n",
    "frame.place(relx=0.2,rely=0.1,relheight=0.5,relwidth=0.5)\n",
    "\n",
    "label=ttk.Label(frame,text=\"Name\",width=20)\n",
    "label.place(relx=0.1,rely=0.1)\n",
    "entry0=ttk.Entry(frame)\n",
    "entry0.place(relx=0.5,rely=0.1,relwidth=0.3)\n",
    "\n",
    "\n",
    "label1=tk.Label(frame,text=\"Password\",bg=\"cyan\",width=20)\n",
    "label1.place(relx=0.1,rely=0.3)\n",
    "entry1=tk.Entry(frame)\n",
    "entry1.place(relx=0.5,rely=0.3,relwidth=0.3)\n",
    "\n",
    "label3=tk.Label(frame,text=\"Login Here!!\",bg=\"red\",fg=\"yellow\",pady=4,width=50,)\n",
    "label3.place(relx=-0.1,rely=0.0)\n",
    "label3.config(font=(\"Vineta BT\",10,\"bold\",\"italic\"))\n",
    "\n",
    "button=tk.Button(frame,text=\"Submit\",activeforeground = \"red\",activebackground = \"pink\",pady=2,relief=\"raised\")\n",
    "button.place(relx=0.3,rely=0.4,relwidth=0.2)\n",
    "\n",
    "button1=tk.Button(frame,text=\"Reset\",activeforeground = \"red\",activebackground = \"pink\",pady=2,relief=\"raised\")\n",
    "button1.place(relx=0.5,rely=0.4,relwidth=0.2)\n",
    "\n",
    "C = tk.Canvas(root, bg=\"blue\", height=250, width=300)\n",
    "coord = 10, 70, 240, 320\n",
    "arc = C.create_arc(coord, start=0, extent=150, fill=\"red\")\n",
    "C.place(relx=0.3,rely=0.6)\n",
    "\n",
    "var = tk.StringVar()\n",
    "label4 = tk.Message( root, textvariable=var, relief=\"raised\" )\n",
    "var.set(\"This is a tkinter Platform!!\")\n",
    "label4.place(relx=0.6,rely=0.6)\n",
    "\n",
    "\n",
    "\n",
    "\n",
    "root.mainloop()"
   ]
  },
  {
   "cell_type": "code",
   "execution_count": 80,
   "metadata": {},
   "outputs": [],
   "source": [
    "from tkinter import *\n",
    "\n",
    "root = Toplevel()\n",
    "\n",
    "canv = Canvas(root, width=500, height=800, bg='white')\n",
    "canv.place(relx=0.2, rely=0.1)\n",
    "\n",
    "img = ImageTk.PhotoImage(file=\"DSC_0171.JPG\") \n",
    "canv.create_image(12, 10, anchor=NW, image=img)\n",
    "\n",
    "mainloop()"
   ]
  },
  {
   "cell_type": "code",
   "execution_count": 11,
   "metadata": {},
   "outputs": [
    {
     "name": "stdout",
     "output_type": "stream",
     "text": [
      " Please Enter the Maximum Value : 10\n",
      "1\n",
      "3\n",
      "5\n",
      "7\n",
      "9\n",
      "10\n"
     ]
    }
   ],
   "source": [
    "c = int(input(\" Please Enter the Maximum Value : \"))\n",
    "d = 0\n",
    "\n",
    "for i in range(1,c+1):\n",
    "    if(i%2!=0):\n",
    "        print(i)\n",
    "        d=d+i\n",
    "print(i)\n"
   ]
  },
  {
   "cell_type": "code",
   "execution_count": 1,
   "metadata": {},
   "outputs": [
    {
     "name": "stdout",
     "output_type": "stream",
     "text": [
      "enter a number=5647\n",
      "sum of odd position is= 9\n",
      "sum of even position is = 13\n",
      "difference is 4\n"
     ]
    }
   ],
   "source": [
    "#sum of odd and even position in a digit\n",
    "num=int(input(\"enter a number=\"))\n",
    "i=1\n",
    "sum=0\n",
    "summ=0\n",
    "while num>0:\n",
    "    rem=num%10\n",
    "    num=int(num/10)\n",
    "    if i%2==0:\n",
    "        sum=sum+rem\n",
    "    else:\n",
    "        summ=summ+rem\n",
    "    i=i+1\n",
    "print(\"sum of odd position is=\",sum)\n",
    "print(\"sum of even position is =\",summ)\n",
    "z=abs(sum-summ)\n",
    "print(\"difference is\",z)\n"
   ]
  },
  {
   "cell_type": "code",
   "execution_count": 8,
   "metadata": {},
   "outputs": [
    {
     "name": "stdout",
     "output_type": "stream",
     "text": [
      "enter a number to check prime or not=7\n",
      "prime num\n"
     ]
    }
   ],
   "source": [
    "#prime num\n",
    "num=int(input(\"enter a number to check prime or not=\"))\n",
    "a=0\n",
    "for i in range(1,num+1):\n",
    "    if(num%i==0):\n",
    "        a=a+1\n",
    "if a==2:\n",
    "    print(\"prime num\")\n",
    "else:\n",
    "    print(\"not a prime num\")"
   ]
  },
  {
   "cell_type": "code",
   "execution_count": 76,
   "metadata": {},
   "outputs": [
    {
     "name": "stdout",
     "output_type": "stream",
     "text": [
      "enter a number=5\n",
      "0\n",
      "1\n",
      "1\n",
      "2\n",
      "3\n",
      "5\n"
     ]
    }
   ],
   "source": [
    "num=int(input('enter a number='))\n",
    "a=0\n",
    "b=1\n",
    "sum=0\n",
    "for i in range(1,s+1):\n",
    "    if (i<=1):\n",
    "        print(0)\n",
    "    else:\n",
    "        i=a+b\n",
    "        a=b\n",
    "        b=i    \n",
    "    print(i)"
   ]
  },
  {
   "cell_type": "code",
   "execution_count": 36,
   "metadata": {},
   "outputs": [
    {
     "name": "stdout",
     "output_type": "stream",
     "text": [
      "enter a num=4\n",
      "      "
     ]
    }
   ],
   "source": [
    "num=int(input(\"enter a num=\"))\n",
    "for i in range (1,num+1):\n",
    "    for j in range(1,num-i+1):\n",
    "        print(end=' ')"
   ]
  },
  {
   "cell_type": "code",
   "execution_count": 1,
   "metadata": {},
   "outputs": [
    {
     "data": {
      "application/javascript": [
       "if (window.IPython && IPython.notebook.kernel) IPython.notebook.kernel.execute('jovian.utils.jupyter.get_notebook_name_saved = lambda: \"' + IPython.notebook.notebook_name + '\"')"
      ],
      "text/plain": [
       "<IPython.core.display.Javascript object>"
      ]
     },
     "metadata": {},
     "output_type": "display_data"
    }
   ],
   "source": [
    "import jovian"
   ]
  },
  {
   "cell_type": "code",
   "execution_count": 2,
   "metadata": {},
   "outputs": [
    {
     "name": "stdout",
     "output_type": "stream",
     "text": [
      "[jovian] Saving notebook..\n"
     ]
    },
    {
     "data": {
      "application/javascript": [
       "window.require && require([\"base/js/namespace\"],function(Jupyter){Jupyter.notebook.save_checkpoint()})"
      ],
      "text/plain": [
       "<IPython.core.display.Javascript object>"
      ]
     },
     "metadata": {},
     "output_type": "display_data"
    },
    {
     "name": "stdout",
     "output_type": "stream",
     "text": [
      "[jovian] Creating a new notebook on https://jovian.ml/\n",
      "[jovian] Uploading notebook..\n",
      "[jovian] Capturing environment..\n",
      "[jovian] Committed successfully! https://jovian.ml/shaktiswarupsingh520/1b01b3e6ce53487e9523db6d113fc355\n"
     ]
    }
   ],
   "source": [
    "jovian.commit()"
   ]
  },
  {
   "cell_type": "code",
   "execution_count": 5,
   "metadata": {},
   "outputs": [],
   "source": [
    "from tkinter import *\n",
    "import time\n",
    "root = Tk()\n",
    "time1 = ''\n",
    "clock = Label(root, font=('times', 20, 'bold'), bg='lawngreen')\n",
    "clock.pack(fill=BOTH, expand=1)\n",
    "def tick():\n",
    "    global time1\n",
    "    time2 = time.strftime('%H:%M:%S')\n",
    "    if time2 != time1:\n",
    "        time1 = time2\n",
    "        clock.config(text=time2)\n",
    "    clock.after(200, tick)\n",
    "tick()\n",
    "root.mainloop(  )"
   ]
  },
  {
   "cell_type": "code",
   "execution_count": 15,
   "metadata": {},
   "outputs": [],
   "source": [
    "from tkinter import *\n",
    "import time\n",
    "root = Tk()\n",
    "clock = Label(root, font=('times', 20, 'bold'), bg='green')\n",
    "clock.pack(fill=BOTH, expand=1)\n",
    "def tick():\n",
    "    s = time.strftime('%H:%M:%S')\n",
    "    if s != clock[\"text\"]:\n",
    "        clock[\"text\"] = s\n",
    "    clock.after(200, tick)\n",
    "tick()\n",
    "root.mainloop()"
   ]
  },
  {
   "cell_type": "code",
   "execution_count": 9,
   "metadata": {},
   "outputs": [],
   "source": [
    "import sys    \n",
    "from tkinter import *\n",
    "import time\n",
    "\n",
    "def tick():\n",
    "    global time1\n",
    "    # get the current local time from the PC\n",
    "    time2 = time.strftime('%H:%M:%S')\n",
    "    # if time string has changed, update it\n",
    "    if time2 != time1:\n",
    "        time1 = time2\n",
    "        clock.config(text=time2)\n",
    "        # calls itself every 200 milliseconds\n",
    "        # to update the time display as needed\n",
    "        # could use >200 ms, but display gets jerky\n",
    "    clock.after(200, tick)\n",
    "\n",
    "root = Tk()\n",
    "time1 = ''\n",
    "\n",
    "status = Label(root, text=\"v1.0\", bd=1, relief=SUNKEN, anchor=W)\n",
    "status.grid(row=0, column=0)\n",
    "\n",
    "clock = Label(root, font=('times', 20, 'bold'), bg='green')\n",
    "clock.grid(row=0, column=1) \n",
    "\n",
    "tick()\n",
    "root.mainloop()"
   ]
  },
  {
   "cell_type": "code",
   "execution_count": 12,
   "metadata": {},
   "outputs": [],
   "source": [
    "import tkinter as tk\n",
    "import time\n",
    "\n",
    "class App():\n",
    "    def __init__(self):\n",
    "        self.root = tk.Tk()\n",
    "        self.label = tk.Label(text=\"\")\n",
    "        self.label.pack()\n",
    "        self.update_clock()\n",
    "        self.root.mainloop()\n",
    "\n",
    "    def update_clock(self):\n",
    "        now = time.strftime(\"%H:%M:%S\")\n",
    "        self.label.configure(text=now)\n",
    "        self.root.after(1000, self.update_clock)\n",
    "\n",
    "app=App()"
   ]
  },
  {
   "cell_type": "code",
   "execution_count": 8,
   "metadata": {},
   "outputs": [],
   "source": [
    "from tkinter import *\n",
    "import time\n",
    "tk=Tk()\n",
    "def clock():\n",
    "    t=time.strftime('%I:%M:%S',time.localtime())\n",
    "    if t!='':\n",
    "        label1.config(text=t,font='times 25')\n",
    "    tk.after(100,clock)\n",
    "label1=Label(tk,justify='center')\n",
    "label1.pack()\n",
    "clock()\n",
    "tk.mainloop()"
   ]
  },
  {
   "cell_type": "code",
   "execution_count": 16,
   "metadata": {},
   "outputs": [
    {
     "name": "stdout",
     "output_type": "stream",
     "text": [
      "Collecting digitalclock\n",
      "  Downloading https://files.pythonhosted.org/packages/c8/5c/3501a783013fc52c02d833326372b83c25d0d4dd5b6a4397b03da37b9cf6/digitalclock-0.8.4-py2.py3-none-any.whl\n",
      "Installing collected packages: digitalclock\n",
      "Successfully installed digitalclock-0.8.4\n",
      "Note: you may need to restart the kernel to use updated packages.\n"
     ]
    }
   ],
   "source": [
    "pip install digitalclock\n"
   ]
  },
  {
   "cell_type": "code",
   "execution_count": 7,
   "metadata": {},
   "outputs": [],
   "source": [
    "from tkinter import * \n",
    "from tkinter.ttk import * \n",
    "from time import strftime \n",
    " \n",
    "root = Tk() \n",
    "root.title('Clock') \n",
    " \n",
    "def time(): \n",
    "    string = strftime('%H:%M:%S %p') \n",
    "    lbl.config(text = string) \n",
    "    lbl.after(1000, time)  \n",
    "lbl = Label(root, font = ('calibri', 40, 'bold'), \n",
    "            background = 'purple', \n",
    "            foreground = 'white')  \n",
    "lbl.pack(anchor = 'center') \n",
    "time() \n",
    "  \n",
    "mainloop() "
   ]
  },
  {
   "cell_type": "code",
   "execution_count": null,
   "metadata": {},
   "outputs": [],
   "source": []
  }
 ],
 "metadata": {
  "kernelspec": {
   "display_name": "Python 3",
   "language": "python",
   "name": "python3"
  },
  "language_info": {
   "codemirror_mode": {
    "name": "ipython",
    "version": 3
   },
   "file_extension": ".py",
   "mimetype": "text/x-python",
   "name": "python",
   "nbconvert_exporter": "python",
   "pygments_lexer": "ipython3",
   "version": "3.7.3"
  }
 },
 "nbformat": 4,
 "nbformat_minor": 2
}
